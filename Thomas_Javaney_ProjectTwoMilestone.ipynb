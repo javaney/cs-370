{
 "cells": [
  {
   "cell_type": "markdown",
   "metadata": {},
   "source": [
    "# Treasure Hunt Game Notebook\n",
    "\n",
    "## Read and Review Your Starter Code\n",
    "The theme of this project is a popular treasure hunt game in which the player needs to find the treasure before the pirate does. While you will not be developing the entire game, you will write the part of the game that represents the intelligent agent, which is a pirate in this case. The pirate will try to find the optimal path to the treasure using deep Q-learning. \n",
    "\n",
    "You have been provided with two Python classes and this notebook to help you with this assignment. The first class, <b>TreasureMaze.py</b>, represents the environment, which includes a maze object defined as a matrix. The second class, <b>GameExperience.py</b>, stores the episodes – that is, all the states that come in between the initial state and the terminal state. This is later used by the agent for learning by experience, called \"exploration\". This notebook shows how to play a game. Your task is to complete the deep Q-learning implementation in the qtrain() function for which a skeleton implementation has been provided. \n",
    "\n",
    "The code block you will need to complete has <b>#TODO</b> as a header.\n",
    "\n",
    "First, read and review the next few code and instruction blocks to understand the code that you have been given."
   ]
  },
  {
   "cell_type": "markdown",
   "metadata": {},
   "source": [
    "<div class=\"alert alert-block alert-warning\" style=\"color: #333333;\">\n",
    "<b>Installations</b> The following command will install the necessary Python libraries to necessary to run this application. If you see a \"[notice] A new release of pip is available: 23.1.2 -> 25.2\" at the end of the installation, you may disregard that statement. \n",
    "</div>"
   ]
  },
  {
   "cell_type": "code",
   "execution_count": 1,
   "metadata": {
    "scrolled": true
   },
   "outputs": [
    {
     "name": "stdout",
     "output_type": "stream",
     "text": [
      "Requirement already satisfied: numpy==1.26.4 in /home/codio/.pyenv/versions/3.11.2/lib/python3.11/site-packages (from -r requirements.txt (line 1)) (1.26.4)\n",
      "Requirement already satisfied: keras in /home/codio/.pyenv/versions/3.11.2/lib/python3.11/site-packages (from -r requirements.txt (line 2)) (3.11.3)\n",
      "Requirement already satisfied: tensorflow==2.19.0 in /home/codio/.pyenv/versions/3.11.2/lib/python3.11/site-packages (from -r requirements.txt (line 3)) (2.19.0)\n",
      "Requirement already satisfied: absl-py>=1.0.0 in /home/codio/.pyenv/versions/3.11.2/lib/python3.11/site-packages (from tensorflow==2.19.0->-r requirements.txt (line 3)) (2.3.1)\n",
      "Requirement already satisfied: astunparse>=1.6.0 in /home/codio/.pyenv/versions/3.11.2/lib/python3.11/site-packages (from tensorflow==2.19.0->-r requirements.txt (line 3)) (1.6.3)\n",
      "Requirement already satisfied: flatbuffers>=24.3.25 in /home/codio/.pyenv/versions/3.11.2/lib/python3.11/site-packages (from tensorflow==2.19.0->-r requirements.txt (line 3)) (25.9.23)\n",
      "Requirement already satisfied: gast!=0.5.0,!=0.5.1,!=0.5.2,>=0.2.1 in /home/codio/.pyenv/versions/3.11.2/lib/python3.11/site-packages (from tensorflow==2.19.0->-r requirements.txt (line 3)) (0.6.0)\n",
      "Requirement already satisfied: google-pasta>=0.1.1 in /home/codio/.pyenv/versions/3.11.2/lib/python3.11/site-packages (from tensorflow==2.19.0->-r requirements.txt (line 3)) (0.2.0)\n",
      "Requirement already satisfied: libclang>=13.0.0 in /home/codio/.pyenv/versions/3.11.2/lib/python3.11/site-packages (from tensorflow==2.19.0->-r requirements.txt (line 3)) (18.1.1)\n",
      "Requirement already satisfied: opt-einsum>=2.3.2 in /home/codio/.pyenv/versions/3.11.2/lib/python3.11/site-packages (from tensorflow==2.19.0->-r requirements.txt (line 3)) (3.4.0)\n",
      "Requirement already satisfied: packaging in /home/codio/.pyenv/versions/3.11.2/lib/python3.11/site-packages (from tensorflow==2.19.0->-r requirements.txt (line 3)) (23.0)\n",
      "Requirement already satisfied: protobuf!=4.21.0,!=4.21.1,!=4.21.2,!=4.21.3,!=4.21.4,!=4.21.5,<6.0.0dev,>=3.20.3 in /home/codio/.pyenv/versions/3.11.2/lib/python3.11/site-packages (from tensorflow==2.19.0->-r requirements.txt (line 3)) (5.29.5)\n",
      "Requirement already satisfied: requests<3,>=2.21.0 in /home/codio/.pyenv/versions/3.11.2/lib/python3.11/site-packages (from tensorflow==2.19.0->-r requirements.txt (line 3)) (2.30.0)\n",
      "Requirement already satisfied: setuptools in /home/codio/.pyenv/versions/3.11.2/lib/python3.11/site-packages (from tensorflow==2.19.0->-r requirements.txt (line 3)) (65.5.0)\n",
      "Requirement already satisfied: six>=1.12.0 in /home/codio/.pyenv/versions/3.11.2/lib/python3.11/site-packages (from tensorflow==2.19.0->-r requirements.txt (line 3)) (1.16.0)\n",
      "Requirement already satisfied: termcolor>=1.1.0 in /home/codio/.pyenv/versions/3.11.2/lib/python3.11/site-packages (from tensorflow==2.19.0->-r requirements.txt (line 3)) (3.1.0)\n",
      "Requirement already satisfied: typing-extensions>=3.6.6 in /home/codio/.pyenv/versions/3.11.2/lib/python3.11/site-packages (from tensorflow==2.19.0->-r requirements.txt (line 3)) (4.15.0)\n",
      "Requirement already satisfied: wrapt>=1.11.0 in /home/codio/.pyenv/versions/3.11.2/lib/python3.11/site-packages (from tensorflow==2.19.0->-r requirements.txt (line 3)) (1.17.3)\n",
      "Requirement already satisfied: grpcio<2.0,>=1.24.3 in /home/codio/.pyenv/versions/3.11.2/lib/python3.11/site-packages (from tensorflow==2.19.0->-r requirements.txt (line 3)) (1.75.1)\n",
      "Requirement already satisfied: tensorboard~=2.19.0 in /home/codio/.pyenv/versions/3.11.2/lib/python3.11/site-packages (from tensorflow==2.19.0->-r requirements.txt (line 3)) (2.19.0)\n",
      "Requirement already satisfied: h5py>=3.11.0 in /home/codio/.pyenv/versions/3.11.2/lib/python3.11/site-packages (from tensorflow==2.19.0->-r requirements.txt (line 3)) (3.14.0)\n",
      "Requirement already satisfied: ml-dtypes<1.0.0,>=0.5.1 in /home/codio/.pyenv/versions/3.11.2/lib/python3.11/site-packages (from tensorflow==2.19.0->-r requirements.txt (line 3)) (0.5.3)\n",
      "Requirement already satisfied: tensorflow-io-gcs-filesystem>=0.23.1 in /home/codio/.pyenv/versions/3.11.2/lib/python3.11/site-packages (from tensorflow==2.19.0->-r requirements.txt (line 3)) (0.37.1)\n",
      "Requirement already satisfied: rich in /home/codio/.pyenv/versions/3.11.2/lib/python3.11/site-packages (from keras->-r requirements.txt (line 2)) (14.1.0)\n",
      "Requirement already satisfied: namex in /home/codio/.pyenv/versions/3.11.2/lib/python3.11/site-packages (from keras->-r requirements.txt (line 2)) (0.1.0)\n",
      "Requirement already satisfied: optree in /home/codio/.pyenv/versions/3.11.2/lib/python3.11/site-packages (from keras->-r requirements.txt (line 2)) (0.17.0)\n",
      "Requirement already satisfied: wheel<1.0,>=0.23.0 in /home/codio/.pyenv/versions/3.11.2/lib/python3.11/site-packages (from astunparse>=1.6.0->tensorflow==2.19.0->-r requirements.txt (line 3)) (0.45.1)\n",
      "Requirement already satisfied: charset-normalizer<4,>=2 in /home/codio/.pyenv/versions/3.11.2/lib/python3.11/site-packages (from requests<3,>=2.21.0->tensorflow==2.19.0->-r requirements.txt (line 3)) (2.1.1)\n",
      "Requirement already satisfied: idna<4,>=2.5 in /home/codio/.pyenv/versions/3.11.2/lib/python3.11/site-packages (from requests<3,>=2.21.0->tensorflow==2.19.0->-r requirements.txt (line 3)) (3.4)\n",
      "Requirement already satisfied: urllib3<3,>=1.21.1 in /home/codio/.pyenv/versions/3.11.2/lib/python3.11/site-packages (from requests<3,>=2.21.0->tensorflow==2.19.0->-r requirements.txt (line 3)) (2.0.2)\n",
      "Requirement already satisfied: certifi>=2017.4.17 in /home/codio/.pyenv/versions/3.11.2/lib/python3.11/site-packages (from requests<3,>=2.21.0->tensorflow==2.19.0->-r requirements.txt (line 3)) (2023.5.7)\n",
      "Requirement already satisfied: markdown>=2.6.8 in /home/codio/.pyenv/versions/3.11.2/lib/python3.11/site-packages (from tensorboard~=2.19.0->tensorflow==2.19.0->-r requirements.txt (line 3)) (3.9)\n",
      "Requirement already satisfied: tensorboard-data-server<0.8.0,>=0.7.0 in /home/codio/.pyenv/versions/3.11.2/lib/python3.11/site-packages (from tensorboard~=2.19.0->tensorflow==2.19.0->-r requirements.txt (line 3)) (0.7.2)\n",
      "Requirement already satisfied: werkzeug>=1.0.1 in /home/codio/.pyenv/versions/3.11.2/lib/python3.11/site-packages (from tensorboard~=2.19.0->tensorflow==2.19.0->-r requirements.txt (line 3)) (2.0.0)\n",
      "Requirement already satisfied: markdown-it-py>=2.2.0 in /home/codio/.pyenv/versions/3.11.2/lib/python3.11/site-packages (from rich->keras->-r requirements.txt (line 2)) (4.0.0)\n",
      "Requirement already satisfied: pygments<3.0.0,>=2.13.0 in /home/codio/.pyenv/versions/3.11.2/lib/python3.11/site-packages (from rich->keras->-r requirements.txt (line 2)) (2.15.1)\n",
      "Requirement already satisfied: mdurl~=0.1 in /home/codio/.pyenv/versions/3.11.2/lib/python3.11/site-packages (from markdown-it-py>=2.2.0->rich->keras->-r requirements.txt (line 2)) (0.1.2)\n",
      "\n",
      "\u001b[1m[\u001b[0m\u001b[34;49mnotice\u001b[0m\u001b[1;39;49m]\u001b[0m\u001b[39;49m A new release of pip is available: \u001b[0m\u001b[31;49m23.1.2\u001b[0m\u001b[39;49m -> \u001b[0m\u001b[32;49m25.2\u001b[0m\n",
      "\u001b[1m[\u001b[0m\u001b[34;49mnotice\u001b[0m\u001b[1;39;49m]\u001b[0m\u001b[39;49m To update, run: \u001b[0m\u001b[32;49mpip install --upgrade pip\u001b[0m\n"
     ]
    }
   ],
   "source": [
    "!pip install -r requirements.txt"
   ]
  },
  {
   "cell_type": "markdown",
   "metadata": {},
   "source": [
    "<h2>Tensorflow CPU Acceleration Warning</h2>\n",
    "<div class=\"alert alert-block alert-danger\" style=\"color: #333333;\">\n",
    "    You will see a <b>warning in red</b> \"oneDNN custom operations are on. You may see slightly different numerical results due to floating-point round-off errors from different computation orders\". This is simply coming from <b>Tensorflow to accelerate computations on CPU.</b>  \n",
    "</div>"
   ]
  },
  {
   "cell_type": "code",
   "execution_count": 2,
   "metadata": {},
   "outputs": [
    {
     "name": "stderr",
     "output_type": "stream",
     "text": [
      "2025-10-17 14:23:00.736060: I tensorflow/core/util/port.cc:153] oneDNN custom operations are on. You may see slightly different numerical results due to floating-point round-off errors from different computation orders. To turn them off, set the environment variable `TF_ENABLE_ONEDNN_OPTS=0`.\n",
      "2025-10-17 14:23:00.777903: I external/local_xla/xla/tsl/cuda/cudart_stub.cc:32] Could not find cuda drivers on your machine, GPU will not be used.\n",
      "2025-10-17 14:23:01.281386: I external/local_xla/xla/tsl/cuda/cudart_stub.cc:32] Could not find cuda drivers on your machine, GPU will not be used.\n",
      "2025-10-17 14:23:01.377437: E external/local_xla/xla/stream_executor/cuda/cuda_fft.cc:467] Unable to register cuFFT factory: Attempting to register factory for plugin cuFFT when one has already been registered\n",
      "WARNING: All log messages before absl::InitializeLog() is called are written to STDERR\n",
      "E0000 00:00:1760710981.582739     235 cuda_dnn.cc:8579] Unable to register cuDNN factory: Attempting to register factory for plugin cuDNN when one has already been registered\n",
      "E0000 00:00:1760710981.612787     235 cuda_blas.cc:1407] Unable to register cuBLAS factory: Attempting to register factory for plugin cuBLAS when one has already been registered\n",
      "W0000 00:00:1760710981.975084     235 computation_placer.cc:177] computation placer already registered. Please check linkage and avoid linking the same target more than once.\n",
      "W0000 00:00:1760710981.975125     235 computation_placer.cc:177] computation placer already registered. Please check linkage and avoid linking the same target more than once.\n",
      "W0000 00:00:1760710981.975129     235 computation_placer.cc:177] computation placer already registered. Please check linkage and avoid linking the same target more than once.\n",
      "W0000 00:00:1760710981.975131     235 computation_placer.cc:177] computation placer already registered. Please check linkage and avoid linking the same target more than once.\n",
      "2025-10-17 14:23:01.984980: I tensorflow/core/platform/cpu_feature_guard.cc:210] This TensorFlow binary is optimized to use available CPU instructions in performance-critical operations.\n",
      "To enable the following instructions: AVX2 AVX512F AVX512_VNNI FMA, in other operations, rebuild TensorFlow with the appropriate compiler flags.\n"
     ]
    }
   ],
   "source": [
    "from __future__ import print_function\n",
    "import os, sys, time, datetime, json, random\n",
    "import numpy as np\n",
    "import tensorflow as tf\n",
    "from tensorflow.keras.models import clone_model\n",
    "from keras.models import Sequential\n",
    "from keras.layers import Dense, Activation, PReLU\n",
    "from keras.optimizers import SGD , Adam, RMSprop\n",
    "import matplotlib.pyplot as plt\n",
    "from TreasureMaze import TreasureMaze\n",
    "from GameExperience import GameExperience\n",
    "%matplotlib inline"
   ]
  },
  {
   "cell_type": "markdown",
   "metadata": {},
   "source": [
    "<h2> Maze Object Generation</h2>\n",
    "\n",
    "The following code block contains an 8x8 matrix that will be used as a maze object:"
   ]
  },
  {
   "cell_type": "code",
   "execution_count": 3,
   "metadata": {},
   "outputs": [],
   "source": [
    "maze = np.array([\n",
    "    [ 1.,  0.,  1.,  1.,  1.,  1.,  1.,  1.],\n",
    "    [ 1.,  0.,  1.,  1.,  1.,  0.,  1.,  1.],\n",
    "    [ 1.,  1.,  1.,  1.,  0.,  1.,  0.,  1.],\n",
    "    [ 1.,  1.,  1.,  0.,  1.,  1.,  1.,  1.],\n",
    "    [ 1.,  1.,  0.,  1.,  1.,  1.,  1.,  1.],\n",
    "    [ 1.,  1.,  1.,  0.,  1.,  0.,  0.,  0.],\n",
    "    [ 1.,  1.,  1.,  0.,  1.,  1.,  1.,  1.],\n",
    "    [ 1.,  1.,  1.,  1.,  0.,  1.,  1.,  1.]\n",
    "])"
   ]
  },
  {
   "cell_type": "markdown",
   "metadata": {},
   "source": [
    "<h2>Helper Functions and Global Variables</h2>\n",
    "\n",
    "This <b>show()</b> helper function allows a visual representation of the maze object:"
   ]
  },
  {
   "cell_type": "code",
   "execution_count": 4,
   "metadata": {},
   "outputs": [],
   "source": [
    "def show(qmaze):\n",
    "    plt.grid('on')\n",
    "    nrows, ncols = qmaze.maze.shape\n",
    "    ax = plt.gca()\n",
    "    ax.set_xticks(np.arange(0.5, nrows, 1))\n",
    "    ax.set_yticks(np.arange(0.5, ncols, 1))\n",
    "    ax.set_xticklabels([])\n",
    "    ax.set_yticklabels([])\n",
    "    canvas = np.copy(qmaze.maze)\n",
    "    for row,col in qmaze.visited:\n",
    "        canvas[row,col] = 0.6\n",
    "    pirate_row, pirate_col, _ = qmaze.state\n",
    "    canvas[pirate_row, pirate_col] = 0.3   # pirate cell\n",
    "    canvas[nrows-1, ncols-1] = 0.9 # treasure cell\n",
    "    img = plt.imshow(canvas, interpolation='none', cmap='gray')\n",
    "    return img"
   ]
  },
  {
   "cell_type": "markdown",
   "metadata": {},
   "source": [
    "The <b>pirate agent</b> can move in four directions: left, right, up, and down. \n",
    "\n",
    "While the agent primarily learns by experience through exploitation, often, the agent can choose to explore the environment to find previously undiscovered paths. This is called \"exploration\" and is defined by epsilon. This value is the EXPLORATION values from the Cartpole assignment. The hyperparameters are provided here and used in the qtrain() method. \n",
    "You are encouraged to try various values for the exploration factor and see how the algorithm performs."
   ]
  },
  {
   "cell_type": "code",
   "execution_count": 5,
   "metadata": {},
   "outputs": [],
   "source": [
    "LEFT = 0\n",
    "UP = 1\n",
    "RIGHT = 2\n",
    "DOWN = 3\n",
    "\n",
    "\n",
    "# Exploration factor\n",
    "epsilon = 1.0\n",
    "epsilon_min = 0.05\n",
    "epsilon_decay = 0.995\n",
    "patience = 10\n",
    "\n",
    "# Actions dictionary\n",
    "actions_dict = {\n",
    "    LEFT: 'left',\n",
    "    UP: 'up',\n",
    "    RIGHT: 'right',\n",
    "    DOWN: 'down',\n",
    "}\n",
    "\n",
    "num_actions = len(actions_dict)\n"
   ]
  },
  {
   "cell_type": "markdown",
   "metadata": {},
   "source": [
    "The sample code block and output below show creating a maze object and performing one action (DOWN), which returns the reward. The resulting updated environment is visualized."
   ]
  },
  {
   "cell_type": "code",
   "execution_count": 6,
   "metadata": {},
   "outputs": [
    {
     "name": "stdout",
     "output_type": "stream",
     "text": [
      "reward= -0.04\n"
     ]
    },
    {
     "data": {
      "text/plain": [
       "<matplotlib.image.AxesImage at 0x7bc3f078c390>"
      ]
     },
     "execution_count": 6,
     "metadata": {},
     "output_type": "execute_result"
    },
    {
     "data": {
      "image/png": "[encoded data removed]",
      "text/plain": [
       "<Figure size 640x480 with 1 Axes>"
      ]
     },
     "metadata": {},
     "output_type": "display_data"
    }
   ],
   "source": [
    "qmaze = TreasureMaze(maze)\n",
    "canvas, reward, game_over = qmaze.act(DOWN)\n",
    "print(\"reward=\", reward)\n",
    "show(qmaze)"
   ]
  },
  {
   "cell_type": "markdown",
   "metadata": {},
   "source": [
    "This <b>play_game()</b> function simulates a full game based on the provided trained model. The other parameters include the TreasureMaze object, the starting position of the pirate and max amount of steps to make sure the code does not get stuck in a loop."
   ]
  },
  {
   "cell_type": "code",
   "execution_count": 7,
   "metadata": {},
   "outputs": [],
   "source": [
    "def play_game(model, qmaze, pirate_cell, max_steps=None):\n",
    "    qmaze.reset(pirate_cell)\n",
    "    envstate = qmaze.observe()\n",
    "    steps = 0\n",
    "    if max_steps is None:\n",
    "        max_steps = qmaze.maze.size * 4  # safety cutoff\n",
    "\n",
    "    while steps < max_steps:\n",
    "        state = np.asarray(envstate, dtype=np.float32)\n",
    "        if state.ndim == 1:\n",
    "            state = np.expand_dims(state, axis=0)\n",
    "\n",
    "        q_values = model(state, training=False).numpy()\n",
    "        action = np.argmax(q_values[0])\n",
    "\n",
    "        envstate, reward, game_status = qmaze.act(action)\n",
    "        steps += 1\n",
    "\n",
    "        if game_status == 'win':\n",
    "            return True\n",
    "        elif game_status == 'lose':\n",
    "            return False\n",
    "\n",
    "    return False  # timed out with no result"
   ]
  },
  {
   "cell_type": "markdown",
   "metadata": {},
   "source": [
    "This <b>completion_check()</b> function helps you to determine whether the pirate can win any game at all. If your maze is not well designed, the pirate may not win any game at all. In this case, your training would not yield any result. The provided maze in this notebook ensures that there is a path to win and you can run this method to check."
   ]
  },
  {
   "cell_type": "code",
   "execution_count": 8,
   "metadata": {},
   "outputs": [],
   "source": [
    "def completion_check(model, maze_or_qmaze, max_steps=None):\n",
    "    # Accept either raw numpy maze or TreasureMaze instance\n",
    "    if isinstance(maze_or_qmaze, TreasureMaze):\n",
    "        qmaze = maze_or_qmaze\n",
    "    else:\n",
    "        qmaze = TreasureMaze(maze_or_qmaze)\n",
    "\n",
    "    for cell in qmaze.free_cells:\n",
    "        if not qmaze.valid_actions(cell):\n",
    "            continue\n",
    "        if not play_game(model, qmaze, cell, max_steps=max_steps):\n",
    "            return False\n",
    "    return True"
   ]
  },
  {
   "cell_type": "markdown",
   "metadata": {},
   "source": [
    "The <b>build_model()</b> function in the block below will build the neural network model. Review the code and note the number of layers, as well as the activation, optimizer, and loss functions that are used to train the model."
   ]
  },
  {
   "cell_type": "code",
   "execution_count": 9,
   "metadata": {},
   "outputs": [],
   "source": [
    "def build_model(maze):\n",
    "    model = Sequential()\n",
    "    model.add(Dense(maze.size, input_shape=(maze.size,)))\n",
    "    model.add(PReLU())\n",
    "    model.add(Dense(maze.size))\n",
    "    model.add(PReLU())\n",
    "    model.add(Dense(num_actions))\n",
    "    model.compile(optimizer='adam', loss='mse')\n",
    "    return model"
   ]
  },
  {
   "cell_type": "markdown",
   "metadata": {},
   "source": [
    "This <b>train_step()</b> helper function in the block below is used to help predict Q-values (quality values) in the current modelto see how good each action is in a given state and improve the Q-network by reducing the gap between what is predicted and what should have been predicted. \n",
    "\n",
    "If you're interested in reading up on the <i>@tf.function</i>, which is a decorator for Tensorflow to run this code into a TensorFlow computation graph, please refer to this link: https://www.tensorflow.org/guide/intro_to_graphs\n",
    "\n"
   ]
  },
  {
   "cell_type": "markdown",
   "metadata": {},
   "source": [
    "<h2>Tensorflow GPU Warning</h2>\n",
    "<div class=\"alert alert-block alert-danger\" style=\"color: #333333;\">\n",
    "    You will see a <b>warning in red</b> \"INTERNAL: CUDA Runtime error: Failed call to cudaGetRuntimeVersion: Error loading CUDA libraries. GPU will not be used.\". This is simply coming from <b>Tensorflow skipping using GPU for this assignment.</b>  \n",
    " </div>"
   ]
  },
  {
   "cell_type": "code",
   "execution_count": 10,
   "metadata": {},
   "outputs": [
    {
     "name": "stderr",
     "output_type": "stream",
     "text": [
      "E0000 00:00:1760711010.734932     235 cuda_executor.cc:1228] INTERNAL: CUDA Runtime error: Failed call to cudaGetRuntimeVersion: Error loading CUDA libraries. GPU will not be used.: Error loading CUDA libraries. GPU will not be used.\n",
      "W0000 00:00:1760711010.739520     235 gpu_device.cc:2341] Cannot dlopen some GPU libraries. Please make sure the missing libraries mentioned above are installed properly if you would like to use GPU. Follow the guide at https://www.tensorflow.org/install/gpu for how to download and setup the required libraries for your platform.\n",
      "Skipping registering GPU devices...\n"
     ]
    }
   ],
   "source": [
    "loss_fn = tf.keras.losses.MeanSquaredError()\n",
    "optimizer = tf.keras.optimizers.Adam()\n",
    "\n",
    "@tf.function\n",
    "def train_step(x, y):\n",
    "    with tf.GradientTape() as tape:\n",
    "        q_values = model(x, training=True)\n",
    "        loss = loss_fn(y, q_values)\n",
    "    grads = tape.gradient(loss, model.trainable_variables)\n",
    "    optimizer.apply_gradients(zip(grads, model.trainable_variables))\n",
    "    return loss"
   ]
  },
  {
   "cell_type": "markdown",
   "metadata": {},
   "source": [
    "# #TODO: Complete the Q-Training Algorithm Code Block\n",
    "\n",
    "This is your deep Q-learning implementation. The goal of your deep Q-learning implementation is to find the best possible navigation sequence that results in reaching the treasure cell while maximizing the reward. In your implementation, you need to determine the optimal number of epochs to achieve a 100% win rate.\n",
    "\n",
    "    Pseudocode:\n",
    "    For each epoch:\n",
    "        Reset the environment at a random starting cell\n",
    "        agent_cell = randomly select a free cell\n",
    "        Hint: Review the reset method in the TreasureMaze.py class.\n",
    "    \n",
    "        Set the initial environment state\n",
    "        env_state should reference the environment's current state\n",
    "        Hint: Review the observe method in the TreasureMaze.py class.\n",
    "\n",
    "        While game status is not game over:\n",
    "           previous_envstate = env_state\n",
    "            Decide on an action:\n",
    "                - If possible, take a random valid exploration action and \n",
    "                  randomly choose action (left, right, up, down)\n",
    "                  and assign it to an action variable\n",
    "                - Else, pick the best exploitation action from the model and assign it to an action variable\n",
    "                  Hint: Review the predict method in the GameExperience.py class.\n",
    "    \n",
    "           Retrieve the values below from the act() method.\n",
    "           env_state, reward, game_status = qmaze.act(action)\n",
    "           Hint: Review the act method in the TreasureMaze.py class.\n",
    "    \n",
    "            Track the wins and losses from the game_status using win_history \n",
    "         \n",
    "           Store the episode below in the Experience replay object\n",
    "           episode = [previous_envstate, action, reward, envstate, game_status]\n",
    "           Hint: Review the remember method in the GameExperience.py class.\n",
    "        \n",
    "           Train neural network model and evaluate loss\n",
    "           Hint: Call GameExperience.get_data to retrieve training data (input and target) \n",
    "           and pass to the train_step method and assign it to batch_loss and append to the loss variable\n",
    "        \n",
    "      If the win rate is above the threshold and your model passes the completion check, that would be your epoch.\n",
    "\n",
    "Note: A 100% win rate <b>DOES NOT EXPLICITLY MEAN</b> that you have solved the maze. It simply indicates that during the last evaluation, the pirate <i>happened</i> to get to the treasure. Be sure to utilise the <b>completion_check()</b> function to validate your pirate found the treasure at every starting point and consistently! \n",
    "\n",
    "<b> You will need to complete the section starting with #START_HERE. Please use the pseudocode above as guidance. </b>\n",
    "\n",
    "\n"
   ]
  },
  {
   "cell_type": "code",
   "execution_count": 11,
   "metadata": {},
   "outputs": [],
   "source": [
    "def qtrain(model, maze, **opt):\n",
    "    \"\"\"\n",
    "    Train the pirate agent using deep Q-learning algorithm.\n",
    "    \n",
    "    Args:\n",
    "        model: Neural network model for Q-value prediction\n",
    "        maze: The maze environment (numpy array)\n",
    "        **opt: Optional parameters including n_epoch, max_memory, data_size, target_update_freq\n",
    "    \n",
    "    Returns:\n",
    "        Total training time\n",
    "    \"\"\"\n",
    "    # Exploration factor (global variable)\n",
    "    global epsilon \n",
    "    \n",
    "    # Number of epochs - total training iterations\n",
    "    n_epoch = opt.get('n_epoch', 15000)\n",
    "    \n",
    "    # Maximum memory to store episodes for experience replay\n",
    "    max_memory = opt.get('max_memory', 1000)\n",
    "    \n",
    "    # Maximum data size for training batches\n",
    "    data_size = opt.get('data_size', 50)\n",
    "    \n",
    "    # Frequency of target network updates (for stability)\n",
    "    target_update_freq = opt.get('target_update_freq', 50)\n",
    "    \n",
    "    # Start time tracking\n",
    "    start_time = datetime.datetime.now()\n",
    "    \n",
    "    # Construct environment/game from numpy array: maze\n",
    "    qmaze = TreasureMaze(maze)\n",
    "    \n",
    "    # Create target network (helps stabilize training)\n",
    "    target_model = clone_model(model)\n",
    "    target_model.set_weights(model.get_weights())\n",
    "    \n",
    "    # Initialize experience replay object\n",
    "    experience = GameExperience(model, target_model, max_memory=max_memory)\n",
    "\n",
    "    # Track win/lose history\n",
    "    win_history = []\n",
    "    \n",
    "    # History window size for calculating win rate\n",
    "    hsize = qmaze.maze.size // 2\n",
    "    \n",
    "    # Initialize win rate\n",
    "    win_rate = 0.0\n",
    "    \n",
    "    # ===== MAIN TRAINING LOOP =====\n",
    "    for epoch in range(n_epoch):\n",
    "        # Initialize loss and episode counter for this epoch\n",
    "        loss = 0.0\n",
    "        n_episodes = 0\n",
    "        \n",
    "        # Reset the environment at a random starting cell\n",
    "        # Randomly select a free cell (not an obstacle) for the agent to start\n",
    "        agent_cell = random.choice(qmaze.free_cells)\n",
    "        qmaze.reset(agent_cell)\n",
    "        \n",
    "        # Set the initial environment state\n",
    "        # Observe returns the current state of the environment\n",
    "        envstate = qmaze.observe()\n",
    "        \n",
    "        # Initialize game_over flag\n",
    "        game_over = False\n",
    "        \n",
    "        # ===== EPISODE LOOP (one game) =====\n",
    "        while not game_over:\n",
    "            # Store the previous environment state\n",
    "            previous_envstate = envstate\n",
    "            \n",
    "            # Decide on an action: EXPLORATION vs EXPLOITATION\n",
    "            if np.random.rand() < epsilon:\n",
    "                # EXPLORATION: Randomly choose a valid action\n",
    "                # This helps the agent discover new paths\n",
    "                action = random.choice(qmaze.valid_actions())\n",
    "            else:\n",
    "                # EXPLOITATION: Use the model to predict best action\n",
    "                # The agent uses what it has learned to choose the best action\n",
    "                action = np.argmax(experience.predict(previous_envstate))\n",
    "            \n",
    "            # Execute the action and retrieve results\n",
    "            # act() returns: new state, reward, game status\n",
    "            envstate, reward, game_status = qmaze.act(action)\n",
    "            \n",
    "            # Track wins and losses from game_status\n",
    "            if game_status == 'win':\n",
    "                win_history.append(1)  # Record a win\n",
    "                game_over = True\n",
    "            elif game_status == 'lose':\n",
    "                win_history.append(0)  # Record a loss\n",
    "                game_over = True\n",
    "            else:\n",
    "                game_over = False  # Game continues\n",
    "            \n",
    "            # Store the episode in Experience replay object\n",
    "            # Episode contains: [previous state, action, reward, new state, status]\n",
    "            episode = [previous_envstate, action, reward, envstate, game_status]\n",
    "            experience.remember(episode)\n",
    "            \n",
    "            # Increment episode counter (number of steps in this game)\n",
    "            n_episodes += 1\n",
    "            \n",
    "            # Train neural network model and evaluate loss\n",
    "            # Get training data from experience replay (random batch)\n",
    "            inputs, targets = experience.get_data(batch_size=data_size)\n",
    "            \n",
    "            # Convert to tensors for TensorFlow\n",
    "            inputs = tf.convert_to_tensor(inputs, dtype=tf.float32)\n",
    "            targets = tf.convert_to_tensor(targets, dtype=tf.float32)\n",
    "            \n",
    "            # Train using the custom train_step function\n",
    "            batch_loss = train_step(inputs, targets)\n",
    "            loss = batch_loss.numpy()\n",
    "        \n",
    "        # ===== POST-EPISODE UPDATES =====\n",
    "        \n",
    "        # Update target network periodically for training stability\n",
    "        # Target network provides stable Q-value targets during training\n",
    "        if epoch % target_update_freq == 0:\n",
    "            target_model.set_weights(model.get_weights())\n",
    "        \n",
    "        # Calculate win rate over the last hsize games\n",
    "        if len(win_history) >= hsize:\n",
    "            win_rate = sum(win_history[-hsize:]) / hsize\n",
    "        else:\n",
    "            win_rate = sum(win_history) / len(win_history) if len(win_history) > 0 else 0.0\n",
    "        \n",
    "        # Print progress for this epoch\n",
    "        dt = datetime.datetime.now() - start_time\n",
    "        t = format_time(dt.total_seconds())\n",
    "        template = \"Epoch: {:03d}/{:d} | Loss: {:.4f} | Episodes: {:d} | Win count: {:d} | Win rate: {:.3f} | time: {}\"\n",
    "        print(template.format(epoch, n_epoch-1, loss, n_episodes, sum(win_history), win_rate, t))\n",
    "        \n",
    "        # ===== EPSILON DECAY (Exploration vs Exploitation Balance) =====\n",
    "        # As training progresses, reduce exploration and increase exploitation\n",
    "        if win_rate > 0.9:\n",
    "            epsilon = 0.05  # Minimal exploration when performance is high\n",
    "        else:\n",
    "            # Gradually decay epsilon but don't go below epsilon_min\n",
    "            epsilon = max(epsilon * epsilon_decay, epsilon_min)\n",
    "        \n",
    "        # ===== CHECK FOR TRAINING COMPLETION =====\n",
    "        # Training complete when win rate is very high AND agent can win from all positions\n",
    "        if win_rate >= 0.999 and completion_check(model, qmaze):\n",
    "            print(f\"Reached 100% win rate at epoch {epoch}\")\n",
    "            break\n",
    "    \n",
    "    # Calculate and print total training time\n",
    "    total_time = format_time((datetime.datetime.now() - start_time).total_seconds())\n",
    "    print(\"Training complete in:\", total_time)\n",
    "    \n",
    "    return (datetime.datetime.now() - start_time).total_seconds()\n",
    "\n",
    "\n",
    "def format_time(seconds):\n",
    "    \"\"\"\n",
    "    Format time in seconds to a readable string.\n",
    "    \n",
    "    Args:\n",
    "        seconds: Time in seconds\n",
    "    \n",
    "    Returns:\n",
    "        Formatted time string\n",
    "    \"\"\"\n",
    "    if seconds < 400:\n",
    "        s = float(seconds)\n",
    "        return \"%.1f seconds\" % (s,)\n",
    "    elif seconds < 4000:\n",
    "        m = seconds / 60.0\n",
    "        return \"%.2f minutes\" % (m,)\n",
    "    else:\n",
    "        h = seconds / 3600.0\n",
    "        return \"%.2f hours\" % (h,)"
   ]
  },
  {
   "cell_type": "markdown",
   "metadata": {},
   "source": [
    "## Test Your Model\n",
    "\n",
    "Now we will start testing the deep Q-learning implementation. To begin, select **Cell**, then **Run All** from the menu bar. This will run your notebook. As it runs, you should see output begin to appear beneath the next few cells. The code below creates an <b>instance</b> of TreasureMaze. This does not show your actual training done."
   ]
  },
  {
   "cell_type": "code",
   "execution_count": 12,
   "metadata": {},
   "outputs": [
    {
     "data": {
      "text/plain": [
       "<matplotlib.image.AxesImage at 0x7bc3f2791210>"
      ]
     },
     "execution_count": 12,
     "metadata": {},
     "output_type": "execute_result"
    },
    {
     "data": {
      "image/png": "[encoded data removed]",
      "text/plain": [
       "<Figure size 640x480 with 1 Axes>"
      ]
     },
     "metadata": {},
     "output_type": "display_data"
    }
   ],
   "source": [
    "qmaze = TreasureMaze(maze)\n",
    "show(qmaze)"
   ]
  },
  {
   "cell_type": "markdown",
   "metadata": {},
   "source": [
    "In the next code block, you will build your model using the <b>build_model</b> function and train it using deep Q-learning. Note: This step takes several minutes to fully run.\n",
    "\n"
   ]
  },
  {
   "cell_type": "markdown",
   "metadata": {},
   "source": [
    "<div class=\"alert alert-block alert-danger\" style=\"color: #333333;\">\n",
    "    If you did not attempt the assignment, the code <b>will</b> error out at this section.\n",
    " </div>"
   ]
  },
  {
   "cell_type": "code",
   "execution_count": 13,
   "metadata": {
    "scrolled": true
   },
   "outputs": [
    {
     "name": "stderr",
     "output_type": "stream",
     "text": [
      "/home/codio/.pyenv/versions/3.11.2/lib/python3.11/site-packages/keras/src/layers/core/dense.py:92: UserWarning: Do not pass an `input_shape`/`input_dim` argument to a layer. When using Sequential models, prefer using an `Input(shape)` object as the first layer in the model instead.\n",
      "  super().__init__(activity_regularizer=activity_regularizer, **kwargs)\n"
     ]
    },
    {
     "name": "stdout",
     "output_type": "stream",
     "text": [
      "Epoch: 000/999 | Loss: 0.0015 | Episodes: 144 | Win count: 0 | Win rate: 0.000 | time: 3.7 seconds\n",
      "Epoch: 001/999 | Loss: 0.0017 | Episodes: 144 | Win count: 0 | Win rate: 0.000 | time: 6.0 seconds\n",
      "Epoch: 002/999 | Loss: 0.0022 | Episodes: 144 | Win count: 0 | Win rate: 0.000 | time: 8.3 seconds\n",
      "Epoch: 003/999 | Loss: 0.0010 | Episodes: 150 | Win count: 0 | Win rate: 0.000 | time: 10.6 seconds\n",
      "Epoch: 004/999 | Loss: 0.0011 | Episodes: 145 | Win count: 0 | Win rate: 0.000 | time: 12.9 seconds\n",
      "Epoch: 005/999 | Loss: 0.0014 | Episodes: 152 | Win count: 0 | Win rate: 0.000 | time: 15.2 seconds\n",
      "Epoch: 006/999 | Loss: 0.0019 | Episodes: 12 | Win count: 1 | Win rate: 0.143 | time: 15.4 seconds\n",
      "Epoch: 007/999 | Loss: 0.0011 | Episodes: 145 | Win count: 1 | Win rate: 0.125 | time: 17.9 seconds\n",
      "Epoch: 008/999 | Loss: 0.0017 | Episodes: 25 | Win count: 2 | Win rate: 0.222 | time: 18.4 seconds\n",
      "Epoch: 009/999 | Loss: 0.0124 | Episodes: 149 | Win count: 2 | Win rate: 0.200 | time: 20.9 seconds\n",
      "Epoch: 010/999 | Loss: 0.0014 | Episodes: 158 | Win count: 2 | Win rate: 0.182 | time: 23.5 seconds\n",
      "Epoch: 011/999 | Loss: 0.0011 | Episodes: 144 | Win count: 2 | Win rate: 0.167 | time: 25.8 seconds\n",
      "Epoch: 012/999 | Loss: 0.0010 | Episodes: 146 | Win count: 2 | Win rate: 0.154 | time: 28.0 seconds\n",
      "Epoch: 013/999 | Loss: 0.0009 | Episodes: 147 | Win count: 2 | Win rate: 0.143 | time: 30.5 seconds\n",
      "Epoch: 014/999 | Loss: 0.0013 | Episodes: 149 | Win count: 2 | Win rate: 0.133 | time: 33.1 seconds\n",
      "Epoch: 015/999 | Loss: 0.0010 | Episodes: 143 | Win count: 2 | Win rate: 0.125 | time: 35.2 seconds\n",
      "Epoch: 016/999 | Loss: 0.0006 | Episodes: 157 | Win count: 2 | Win rate: 0.118 | time: 37.8 seconds\n",
      "Epoch: 017/999 | Loss: 0.0005 | Episodes: 144 | Win count: 2 | Win rate: 0.111 | time: 40.1 seconds\n",
      "Epoch: 018/999 | Loss: 0.0021 | Episodes: 148 | Win count: 2 | Win rate: 0.105 | time: 42.6 seconds\n",
      "Epoch: 019/999 | Loss: 0.0011 | Episodes: 1 | Win count: 3 | Win rate: 0.150 | time: 42.6 seconds\n",
      "Epoch: 020/999 | Loss: 0.0017 | Episodes: 144 | Win count: 3 | Win rate: 0.143 | time: 45.0 seconds\n",
      "Epoch: 021/999 | Loss: 0.0006 | Episodes: 120 | Win count: 4 | Win rate: 0.182 | time: 47.1 seconds\n",
      "Epoch: 022/999 | Loss: 0.0015 | Episodes: 142 | Win count: 5 | Win rate: 0.217 | time: 49.5 seconds\n",
      "Epoch: 023/999 | Loss: 0.0022 | Episodes: 151 | Win count: 5 | Win rate: 0.208 | time: 52.1 seconds\n",
      "Epoch: 024/999 | Loss: 0.0015 | Episodes: 143 | Win count: 5 | Win rate: 0.200 | time: 54.4 seconds\n",
      "Epoch: 025/999 | Loss: 0.0027 | Episodes: 13 | Win count: 6 | Win rate: 0.231 | time: 54.6 seconds\n",
      "Epoch: 026/999 | Loss: 0.0026 | Episodes: 28 | Win count: 7 | Win rate: 0.259 | time: 55.1 seconds\n",
      "Epoch: 027/999 | Loss: 0.0019 | Episodes: 100 | Win count: 8 | Win rate: 0.286 | time: 56.7 seconds\n",
      "Epoch: 028/999 | Loss: 0.0012 | Episodes: 141 | Win count: 8 | Win rate: 0.276 | time: 59.0 seconds\n",
      "Epoch: 029/999 | Loss: 0.0014 | Episodes: 1 | Win count: 9 | Win rate: 0.300 | time: 59.1 seconds\n",
      "Epoch: 030/999 | Loss: 0.0015 | Episodes: 147 | Win count: 9 | Win rate: 0.290 | time: 61.6 seconds\n",
      "Epoch: 031/999 | Loss: 0.0012 | Episodes: 146 | Win count: 9 | Win rate: 0.281 | time: 64.0 seconds\n",
      "Epoch: 032/999 | Loss: 0.0009 | Episodes: 144 | Win count: 9 | Win rate: 0.281 | time: 66.5 seconds\n",
      "Epoch: 033/999 | Loss: 0.0021 | Episodes: 141 | Win count: 10 | Win rate: 0.312 | time: 68.9 seconds\n",
      "Epoch: 034/999 | Loss: 0.0008 | Episodes: 144 | Win count: 10 | Win rate: 0.312 | time: 71.0 seconds\n",
      "Epoch: 035/999 | Loss: 0.0007 | Episodes: 141 | Win count: 10 | Win rate: 0.312 | time: 73.4 seconds\n",
      "Epoch: 036/999 | Loss: 0.0012 | Episodes: 59 | Win count: 11 | Win rate: 0.344 | time: 74.4 seconds\n",
      "Epoch: 037/999 | Loss: 0.0023 | Episodes: 106 | Win count: 12 | Win rate: 0.375 | time: 76.2 seconds\n",
      "Epoch: 038/999 | Loss: 0.0124 | Episodes: 160 | Win count: 12 | Win rate: 0.344 | time: 79.1 seconds\n",
      "Epoch: 039/999 | Loss: 0.0129 | Episodes: 142 | Win count: 12 | Win rate: 0.344 | time: 81.4 seconds\n",
      "Epoch: 040/999 | Loss: 0.0017 | Episodes: 138 | Win count: 12 | Win rate: 0.312 | time: 83.7 seconds\n",
      "Epoch: 041/999 | Loss: 0.0015 | Episodes: 155 | Win count: 12 | Win rate: 0.312 | time: 86.4 seconds\n",
      "Epoch: 042/999 | Loss: 0.0013 | Episodes: 56 | Win count: 13 | Win rate: 0.344 | time: 87.4 seconds\n",
      "Epoch: 043/999 | Loss: 0.0018 | Episodes: 147 | Win count: 13 | Win rate: 0.344 | time: 89.8 seconds\n",
      "Epoch: 044/999 | Loss: 0.0018 | Episodes: 63 | Win count: 14 | Win rate: 0.375 | time: 90.8 seconds\n",
      "Epoch: 045/999 | Loss: 0.0016 | Episodes: 150 | Win count: 14 | Win rate: 0.375 | time: 93.1 seconds\n",
      "Epoch: 046/999 | Loss: 0.0011 | Episodes: 19 | Win count: 15 | Win rate: 0.406 | time: 93.4 seconds\n",
      "Epoch: 047/999 | Loss: 0.0012 | Episodes: 93 | Win count: 16 | Win rate: 0.438 | time: 94.8 seconds\n",
      "Epoch: 048/999 | Loss: 0.0019 | Episodes: 145 | Win count: 16 | Win rate: 0.438 | time: 97.2 seconds\n",
      "Epoch: 049/999 | Loss: 0.0014 | Episodes: 152 | Win count: 17 | Win rate: 0.469 | time: 99.9 seconds\n",
      "Epoch: 050/999 | Loss: 0.0012 | Episodes: 159 | Win count: 17 | Win rate: 0.469 | time: 102.8 seconds\n",
      "Epoch: 051/999 | Loss: 0.0012 | Episodes: 143 | Win count: 17 | Win rate: 0.438 | time: 105.5 seconds\n",
      "Epoch: 052/999 | Loss: 0.0015 | Episodes: 135 | Win count: 18 | Win rate: 0.469 | time: 107.9 seconds\n",
      "Epoch: 053/999 | Loss: 0.0012 | Episodes: 104 | Win count: 19 | Win rate: 0.469 | time: 109.6 seconds\n",
      "Epoch: 054/999 | Loss: 0.0006 | Episodes: 144 | Win count: 19 | Win rate: 0.438 | time: 112.0 seconds\n",
      "Epoch: 055/999 | Loss: 0.0010 | Episodes: 70 | Win count: 20 | Win rate: 0.469 | time: 113.3 seconds\n",
      "Epoch: 056/999 | Loss: 0.0010 | Episodes: 37 | Win count: 21 | Win rate: 0.500 | time: 114.0 seconds\n",
      "Epoch: 057/999 | Loss: 0.0072 | Episodes: 146 | Win count: 21 | Win rate: 0.469 | time: 116.6 seconds\n",
      "Epoch: 058/999 | Loss: 0.0016 | Episodes: 1 | Win count: 22 | Win rate: 0.469 | time: 116.6 seconds\n",
      "Epoch: 059/999 | Loss: 0.0061 | Episodes: 140 | Win count: 22 | Win rate: 0.438 | time: 119.0 seconds\n",
      "Epoch: 060/999 | Loss: 0.0023 | Episodes: 151 | Win count: 22 | Win rate: 0.438 | time: 121.8 seconds\n",
      "Epoch: 061/999 | Loss: 0.0012 | Episodes: 155 | Win count: 22 | Win rate: 0.406 | time: 124.7 seconds\n",
      "Epoch: 062/999 | Loss: 0.0011 | Episodes: 146 | Win count: 22 | Win rate: 0.406 | time: 127.3 seconds\n",
      "Epoch: 063/999 | Loss: 0.0003 | Episodes: 146 | Win count: 22 | Win rate: 0.406 | time: 129.8 seconds\n",
      "Epoch: 064/999 | Loss: 0.0015 | Episodes: 75 | Win count: 23 | Win rate: 0.438 | time: 131.1 seconds\n",
      "Epoch: 065/999 | Loss: 0.0015 | Episodes: 144 | Win count: 23 | Win rate: 0.406 | time: 133.6 seconds\n",
      "Epoch: 066/999 | Loss: 0.0014 | Episodes: 145 | Win count: 23 | Win rate: 0.406 | time: 136.0 seconds\n",
      "Epoch: 067/999 | Loss: 0.0011 | Episodes: 151 | Win count: 23 | Win rate: 0.406 | time: 138.7 seconds\n",
      "Epoch: 068/999 | Loss: 0.0015 | Episodes: 1 | Win count: 24 | Win rate: 0.406 | time: 138.7 seconds\n",
      "Epoch: 069/999 | Loss: 0.0009 | Episodes: 56 | Win count: 25 | Win rate: 0.406 | time: 139.7 seconds\n",
      "Epoch: 070/999 | Loss: 0.0023 | Episodes: 13 | Win count: 26 | Win rate: 0.438 | time: 139.9 seconds\n",
      "Epoch: 071/999 | Loss: 0.0011 | Episodes: 151 | Win count: 26 | Win rate: 0.438 | time: 142.7 seconds\n",
      "Epoch: 072/999 | Loss: 0.0013 | Episodes: 144 | Win count: 26 | Win rate: 0.438 | time: 145.3 seconds\n",
      "Epoch: 073/999 | Loss: 0.0009 | Episodes: 138 | Win count: 26 | Win rate: 0.438 | time: 147.8 seconds\n",
      "Epoch: 074/999 | Loss: 0.0015 | Episodes: 50 | Win count: 27 | Win rate: 0.438 | time: 148.6 seconds\n",
      "Epoch: 075/999 | Loss: 0.0007 | Episodes: 151 | Win count: 27 | Win rate: 0.438 | time: 151.2 seconds\n",
      "Epoch: 076/999 | Loss: 0.0013 | Episodes: 154 | Win count: 27 | Win rate: 0.406 | time: 154.0 seconds\n",
      "Epoch: 077/999 | Loss: 0.0025 | Episodes: 159 | Win count: 27 | Win rate: 0.406 | time: 156.9 seconds\n",
      "Epoch: 078/999 | Loss: 0.0018 | Episodes: 161 | Win count: 28 | Win rate: 0.406 | time: 159.7 seconds\n",
      "Epoch: 079/999 | Loss: 0.0015 | Episodes: 150 | Win count: 28 | Win rate: 0.375 | time: 162.4 seconds\n",
      "Epoch: 080/999 | Loss: 0.0011 | Episodes: 1 | Win count: 29 | Win rate: 0.406 | time: 162.4 seconds\n",
      "Epoch: 081/999 | Loss: 0.0013 | Episodes: 145 | Win count: 29 | Win rate: 0.375 | time: 165.0 seconds\n"
     ]
    },
    {
     "name": "stdout",
     "output_type": "stream",
     "text": [
      "Epoch: 082/999 | Loss: 0.0012 | Episodes: 142 | Win count: 29 | Win rate: 0.375 | time: 167.6 seconds\n",
      "Epoch: 083/999 | Loss: 0.0009 | Episodes: 140 | Win count: 29 | Win rate: 0.375 | time: 170.1 seconds\n",
      "Epoch: 084/999 | Loss: 0.0023 | Episodes: 149 | Win count: 29 | Win rate: 0.344 | time: 172.8 seconds\n",
      "Epoch: 085/999 | Loss: 0.0020 | Episodes: 160 | Win count: 29 | Win rate: 0.312 | time: 175.5 seconds\n",
      "Epoch: 086/999 | Loss: 0.0015 | Episodes: 151 | Win count: 29 | Win rate: 0.312 | time: 178.3 seconds\n",
      "Epoch: 087/999 | Loss: 0.0010 | Episodes: 1 | Win count: 30 | Win rate: 0.312 | time: 178.3 seconds\n",
      "Epoch: 088/999 | Loss: 0.0012 | Episodes: 144 | Win count: 30 | Win rate: 0.281 | time: 180.9 seconds\n",
      "Epoch: 089/999 | Loss: 0.0016 | Episodes: 139 | Win count: 30 | Win rate: 0.281 | time: 183.5 seconds\n",
      "Epoch: 090/999 | Loss: 0.0003 | Episodes: 142 | Win count: 30 | Win rate: 0.250 | time: 185.8 seconds\n",
      "Epoch: 091/999 | Loss: 0.0007 | Episodes: 148 | Win count: 30 | Win rate: 0.250 | time: 188.7 seconds\n",
      "Epoch: 092/999 | Loss: 0.0018 | Episodes: 144 | Win count: 30 | Win rate: 0.250 | time: 191.2 seconds\n",
      "Epoch: 093/999 | Loss: 0.0019 | Episodes: 152 | Win count: 30 | Win rate: 0.250 | time: 194.0 seconds\n",
      "Epoch: 094/999 | Loss: 0.0009 | Episodes: 147 | Win count: 30 | Win rate: 0.250 | time: 196.8 seconds\n",
      "Epoch: 095/999 | Loss: 0.0009 | Episodes: 150 | Win count: 30 | Win rate: 0.250 | time: 199.7 seconds\n",
      "Epoch: 096/999 | Loss: 0.0014 | Episodes: 73 | Win count: 31 | Win rate: 0.250 | time: 201.0 seconds\n",
      "Epoch: 097/999 | Loss: 0.0016 | Episodes: 20 | Win count: 32 | Win rate: 0.281 | time: 201.4 seconds\n",
      "Epoch: 098/999 | Loss: 0.0014 | Episodes: 150 | Win count: 32 | Win rate: 0.281 | time: 204.2 seconds\n",
      "Epoch: 099/999 | Loss: 0.0013 | Episodes: 147 | Win count: 32 | Win rate: 0.281 | time: 206.8 seconds\n",
      "Epoch: 100/999 | Loss: 0.0029 | Episodes: 35 | Win count: 33 | Win rate: 0.281 | time: 207.4 seconds\n",
      "Epoch: 101/999 | Loss: 0.0016 | Episodes: 138 | Win count: 33 | Win rate: 0.250 | time: 209.9 seconds\n",
      "Epoch: 102/999 | Loss: 0.0007 | Episodes: 141 | Win count: 33 | Win rate: 0.219 | time: 212.6 seconds\n",
      "Epoch: 103/999 | Loss: 0.0014 | Episodes: 144 | Win count: 33 | Win rate: 0.219 | time: 215.2 seconds\n",
      "Epoch: 104/999 | Loss: 0.0009 | Episodes: 148 | Win count: 33 | Win rate: 0.219 | time: 218.0 seconds\n",
      "Epoch: 105/999 | Loss: 0.0010 | Episodes: 79 | Win count: 34 | Win rate: 0.250 | time: 219.4 seconds\n",
      "Epoch: 106/999 | Loss: 0.0015 | Episodes: 147 | Win count: 34 | Win rate: 0.219 | time: 222.2 seconds\n",
      "Epoch: 107/999 | Loss: 0.0013 | Episodes: 150 | Win count: 34 | Win rate: 0.219 | time: 224.8 seconds\n",
      "Epoch: 108/999 | Loss: 0.0011 | Episodes: 144 | Win count: 34 | Win rate: 0.219 | time: 227.4 seconds\n",
      "Epoch: 109/999 | Loss: 0.0011 | Episodes: 139 | Win count: 34 | Win rate: 0.219 | time: 230.1 seconds\n",
      "Epoch: 110/999 | Loss: 0.0019 | Episodes: 151 | Win count: 34 | Win rate: 0.188 | time: 233.0 seconds\n",
      "Epoch: 111/999 | Loss: 0.0010 | Episodes: 148 | Win count: 34 | Win rate: 0.188 | time: 235.8 seconds\n",
      "Epoch: 112/999 | Loss: 0.0014 | Episodes: 36 | Win count: 35 | Win rate: 0.188 | time: 236.4 seconds\n",
      "Epoch: 113/999 | Loss: 0.0010 | Episodes: 144 | Win count: 35 | Win rate: 0.188 | time: 238.8 seconds\n",
      "Epoch: 114/999 | Loss: 0.0011 | Episodes: 2 | Win count: 36 | Win rate: 0.219 | time: 238.8 seconds\n",
      "Epoch: 115/999 | Loss: 0.0023 | Episodes: 30 | Win count: 37 | Win rate: 0.250 | time: 239.3 seconds\n",
      "Epoch: 116/999 | Loss: 0.0010 | Episodes: 71 | Win count: 38 | Win rate: 0.281 | time: 240.7 seconds\n",
      "Epoch: 117/999 | Loss: 0.0021 | Episodes: 144 | Win count: 38 | Win rate: 0.281 | time: 243.5 seconds\n",
      "Epoch: 118/999 | Loss: 0.0020 | Episodes: 145 | Win count: 38 | Win rate: 0.281 | time: 246.3 seconds\n",
      "Epoch: 119/999 | Loss: 0.0010 | Episodes: 144 | Win count: 38 | Win rate: 0.250 | time: 248.9 seconds\n",
      "Epoch: 120/999 | Loss: 0.0007 | Episodes: 137 | Win count: 38 | Win rate: 0.250 | time: 251.5 seconds\n",
      "Epoch: 121/999 | Loss: 0.0006 | Episodes: 1 | Win count: 39 | Win rate: 0.281 | time: 251.5 seconds\n",
      "Epoch: 122/999 | Loss: 0.0016 | Episodes: 143 | Win count: 39 | Win rate: 0.281 | time: 254.1 seconds\n",
      "Epoch: 123/999 | Loss: 0.0016 | Episodes: 143 | Win count: 39 | Win rate: 0.281 | time: 257.0 seconds\n",
      "Epoch: 124/999 | Loss: 0.0004 | Episodes: 150 | Win count: 39 | Win rate: 0.281 | time: 259.8 seconds\n",
      "Epoch: 125/999 | Loss: 0.0010 | Episodes: 47 | Win count: 40 | Win rate: 0.312 | time: 260.7 seconds\n",
      "Epoch: 126/999 | Loss: 0.0018 | Episodes: 148 | Win count: 40 | Win rate: 0.312 | time: 263.5 seconds\n",
      "Epoch: 127/999 | Loss: 0.0011 | Episodes: 140 | Win count: 40 | Win rate: 0.312 | time: 266.2 seconds\n",
      "Epoch: 128/999 | Loss: 0.0009 | Episodes: 153 | Win count: 40 | Win rate: 0.281 | time: 269.0 seconds\n",
      "Epoch: 129/999 | Loss: 0.0006 | Episodes: 155 | Win count: 40 | Win rate: 0.250 | time: 271.9 seconds\n",
      "Epoch: 130/999 | Loss: 0.0020 | Episodes: 140 | Win count: 40 | Win rate: 0.250 | time: 274.5 seconds\n",
      "Epoch: 131/999 | Loss: 0.0012 | Episodes: 143 | Win count: 40 | Win rate: 0.250 | time: 277.0 seconds\n",
      "Epoch: 132/999 | Loss: 0.0013 | Episodes: 154 | Win count: 40 | Win rate: 0.219 | time: 280.0 seconds\n",
      "Epoch: 133/999 | Loss: 0.0016 | Episodes: 142 | Win count: 40 | Win rate: 0.219 | time: 282.6 seconds\n",
      "Epoch: 134/999 | Loss: 0.0009 | Episodes: 77 | Win count: 41 | Win rate: 0.250 | time: 284.2 seconds\n",
      "Epoch: 135/999 | Loss: 0.0011 | Episodes: 141 | Win count: 41 | Win rate: 0.250 | time: 286.8 seconds\n",
      "Epoch: 136/999 | Loss: 0.0011 | Episodes: 72 | Win count: 42 | Win rate: 0.281 | time: 288.2 seconds\n",
      "Epoch: 137/999 | Loss: 0.0014 | Episodes: 3 | Win count: 43 | Win rate: 0.281 | time: 288.2 seconds\n",
      "Epoch: 138/999 | Loss: 0.0015 | Episodes: 56 | Win count: 44 | Win rate: 0.312 | time: 289.2 seconds\n",
      "Epoch: 139/999 | Loss: 0.0023 | Episodes: 4 | Win count: 45 | Win rate: 0.344 | time: 289.3 seconds\n",
      "Epoch: 140/999 | Loss: 0.0004 | Episodes: 3 | Win count: 46 | Win rate: 0.375 | time: 289.4 seconds\n",
      "Epoch: 141/999 | Loss: 0.0052 | Episodes: 124 | Win count: 47 | Win rate: 0.406 | time: 291.6 seconds\n",
      "Epoch: 142/999 | Loss: 0.0007 | Episodes: 139 | Win count: 47 | Win rate: 0.406 | time: 294.3 seconds\n",
      "Epoch: 143/999 | Loss: 0.0016 | Episodes: 10 | Win count: 48 | Win rate: 0.438 | time: 294.5 seconds\n",
      "Epoch: 144/999 | Loss: 0.0015 | Episodes: 60 | Win count: 49 | Win rate: 0.438 | time: 295.7 seconds\n",
      "Epoch: 145/999 | Loss: 0.0017 | Episodes: 80 | Win count: 50 | Win rate: 0.469 | time: 297.2 seconds\n",
      "Epoch: 146/999 | Loss: 0.0017 | Episodes: 101 | Win count: 51 | Win rate: 0.469 | time: 299.1 seconds\n",
      "Epoch: 147/999 | Loss: 0.0013 | Episodes: 86 | Win count: 52 | Win rate: 0.469 | time: 300.8 seconds\n",
      "Epoch: 148/999 | Loss: 0.0011 | Episodes: 57 | Win count: 53 | Win rate: 0.469 | time: 301.9 seconds\n",
      "Epoch: 149/999 | Loss: 0.0019 | Episodes: 147 | Win count: 53 | Win rate: 0.469 | time: 304.7 seconds\n",
      "Epoch: 150/999 | Loss: 0.0017 | Episodes: 87 | Win count: 54 | Win rate: 0.500 | time: 306.4 seconds\n",
      "Epoch: 151/999 | Loss: 0.0022 | Episodes: 9 | Win count: 55 | Win rate: 0.531 | time: 306.6 seconds\n",
      "Epoch: 152/999 | Loss: 0.0020 | Episodes: 2 | Win count: 56 | Win rate: 0.562 | time: 306.6 seconds\n",
      "Epoch: 153/999 | Loss: 0.0019 | Episodes: 98 | Win count: 57 | Win rate: 0.562 | time: 308.5 seconds\n",
      "Epoch: 154/999 | Loss: 0.0015 | Episodes: 47 | Win count: 58 | Win rate: 0.594 | time: 309.4 seconds\n",
      "Epoch: 155/999 | Loss: 0.0020 | Episodes: 156 | Win count: 58 | Win rate: 0.594 | time: 312.6 seconds\n",
      "Epoch: 156/999 | Loss: 0.0026 | Episodes: 100 | Win count: 59 | Win rate: 0.625 | time: 314.7 seconds\n",
      "Epoch: 157/999 | Loss: 0.0016 | Episodes: 120 | Win count: 60 | Win rate: 0.625 | time: 317.0 seconds\n",
      "Epoch: 158/999 | Loss: 0.0015 | Episodes: 150 | Win count: 60 | Win rate: 0.625 | time: 320.1 seconds\n",
      "Epoch: 159/999 | Loss: 0.0020 | Episodes: 65 | Win count: 61 | Win rate: 0.656 | time: 321.4 seconds\n",
      "Epoch: 160/999 | Loss: 0.0020 | Episodes: 28 | Win count: 62 | Win rate: 0.688 | time: 321.9 seconds\n",
      "Epoch: 161/999 | Loss: 0.0030 | Episodes: 60 | Win count: 63 | Win rate: 0.719 | time: 323.1 seconds\n",
      "Epoch: 162/999 | Loss: 0.0018 | Episodes: 43 | Win count: 64 | Win rate: 0.750 | time: 324.0 seconds\n"
     ]
    },
    {
     "name": "stdout",
     "output_type": "stream",
     "text": [
      "Epoch: 163/999 | Loss: 0.0028 | Episodes: 51 | Win count: 65 | Win rate: 0.781 | time: 325.0 seconds\n",
      "Epoch: 164/999 | Loss: 0.0026 | Episodes: 73 | Win count: 66 | Win rate: 0.812 | time: 326.5 seconds\n",
      "Epoch: 165/999 | Loss: 0.0023 | Episodes: 10 | Win count: 67 | Win rate: 0.844 | time: 326.7 seconds\n",
      "Epoch: 166/999 | Loss: 0.0018 | Episodes: 61 | Win count: 68 | Win rate: 0.844 | time: 327.9 seconds\n",
      "Epoch: 167/999 | Loss: 0.0023 | Episodes: 94 | Win count: 69 | Win rate: 0.875 | time: 329.7 seconds\n",
      "Epoch: 168/999 | Loss: 0.0023 | Episodes: 4 | Win count: 70 | Win rate: 0.875 | time: 329.7 seconds\n",
      "Epoch: 169/999 | Loss: 0.0019 | Episodes: 157 | Win count: 71 | Win rate: 0.875 | time: 332.8 seconds\n",
      "Epoch: 170/999 | Loss: 0.0022 | Episodes: 51 | Win count: 72 | Win rate: 0.875 | time: 333.9 seconds\n",
      "Epoch: 171/999 | Loss: 0.0019 | Episodes: 3 | Win count: 73 | Win rate: 0.875 | time: 333.9 seconds\n",
      "Epoch: 172/999 | Loss: 0.0021 | Episodes: 20 | Win count: 74 | Win rate: 0.875 | time: 334.3 seconds\n",
      "Epoch: 173/999 | Loss: 0.0022 | Episodes: 62 | Win count: 75 | Win rate: 0.875 | time: 335.6 seconds\n",
      "Epoch: 174/999 | Loss: 0.0015 | Episodes: 97 | Win count: 76 | Win rate: 0.906 | time: 337.5 seconds\n",
      "Epoch: 175/999 | Loss: 0.0007 | Episodes: 141 | Win count: 76 | Win rate: 0.875 | time: 340.5 seconds\n",
      "Epoch: 176/999 | Loss: 0.0015 | Episodes: 1 | Win count: 77 | Win rate: 0.875 | time: 340.6 seconds\n",
      "Epoch: 177/999 | Loss: 0.0014 | Episodes: 105 | Win count: 78 | Win rate: 0.875 | time: 342.9 seconds\n",
      "Epoch: 178/999 | Loss: 0.0012 | Episodes: 67 | Win count: 79 | Win rate: 0.875 | time: 344.4 seconds\n",
      "Epoch: 179/999 | Loss: 0.0010 | Episodes: 44 | Win count: 80 | Win rate: 0.875 | time: 345.4 seconds\n",
      "Epoch: 180/999 | Loss: 0.0006 | Episodes: 1 | Win count: 81 | Win rate: 0.875 | time: 345.4 seconds\n",
      "Epoch: 181/999 | Loss: 0.0007 | Episodes: 9 | Win count: 82 | Win rate: 0.906 | time: 345.6 seconds\n",
      "Epoch: 182/999 | Loss: 0.0008 | Episodes: 35 | Win count: 83 | Win rate: 0.906 | time: 346.3 seconds\n",
      "Epoch: 183/999 | Loss: 0.0011 | Episodes: 5 | Win count: 84 | Win rate: 0.906 | time: 346.4 seconds\n",
      "Epoch: 184/999 | Loss: 0.0012 | Episodes: 51 | Win count: 85 | Win rate: 0.906 | time: 347.5 seconds\n",
      "Epoch: 185/999 | Loss: 0.0010 | Episodes: 3 | Win count: 86 | Win rate: 0.906 | time: 347.6 seconds\n",
      "Epoch: 186/999 | Loss: 0.0017 | Episodes: 31 | Win count: 87 | Win rate: 0.906 | time: 348.2 seconds\n",
      "Epoch: 187/999 | Loss: 0.0009 | Episodes: 49 | Win count: 88 | Win rate: 0.938 | time: 349.2 seconds\n",
      "Epoch: 188/999 | Loss: 0.0010 | Episodes: 12 | Win count: 89 | Win rate: 0.938 | time: 349.5 seconds\n",
      "Epoch: 189/999 | Loss: 0.0010 | Episodes: 6 | Win count: 90 | Win rate: 0.938 | time: 349.6 seconds\n",
      "Epoch: 190/999 | Loss: 0.0011 | Episodes: 18 | Win count: 91 | Win rate: 0.969 | time: 350.1 seconds\n",
      "Epoch: 191/999 | Loss: 0.0019 | Episodes: 49 | Win count: 92 | Win rate: 0.969 | time: 351.2 seconds\n",
      "Epoch: 192/999 | Loss: 0.0008 | Episodes: 84 | Win count: 93 | Win rate: 0.969 | time: 353.3 seconds\n",
      "Epoch: 193/999 | Loss: 0.0011 | Episodes: 13 | Win count: 94 | Win rate: 0.969 | time: 353.6 seconds\n",
      "Epoch: 194/999 | Loss: 0.0011 | Episodes: 45 | Win count: 95 | Win rate: 0.969 | time: 354.6 seconds\n",
      "Epoch: 195/999 | Loss: 0.0013 | Episodes: 41 | Win count: 96 | Win rate: 0.969 | time: 355.4 seconds\n",
      "Epoch: 196/999 | Loss: 0.0016 | Episodes: 11 | Win count: 97 | Win rate: 0.969 | time: 355.6 seconds\n",
      "Epoch: 197/999 | Loss: 0.0013 | Episodes: 14 | Win count: 98 | Win rate: 0.969 | time: 355.9 seconds\n",
      "Epoch: 198/999 | Loss: 0.0016 | Episodes: 17 | Win count: 99 | Win rate: 0.969 | time: 356.4 seconds\n",
      "Epoch: 199/999 | Loss: 0.0008 | Episodes: 16 | Win count: 100 | Win rate: 0.969 | time: 356.8 seconds\n",
      "Epoch: 200/999 | Loss: 0.0013 | Episodes: 24 | Win count: 101 | Win rate: 0.969 | time: 357.3 seconds\n",
      "Epoch: 201/999 | Loss: 0.0008 | Episodes: 13 | Win count: 102 | Win rate: 0.969 | time: 357.7 seconds\n",
      "Epoch: 202/999 | Loss: 0.0010 | Episodes: 37 | Win count: 103 | Win rate: 0.969 | time: 358.5 seconds\n",
      "Epoch: 203/999 | Loss: 0.0011 | Episodes: 19 | Win count: 104 | Win rate: 0.969 | time: 358.9 seconds\n",
      "Epoch: 204/999 | Loss: 0.0011 | Episodes: 29 | Win count: 105 | Win rate: 0.969 | time: 359.5 seconds\n",
      "Epoch: 205/999 | Loss: 0.0008 | Episodes: 22 | Win count: 106 | Win rate: 0.969 | time: 360.0 seconds\n",
      "Epoch: 206/999 | Loss: 0.0012 | Episodes: 10 | Win count: 107 | Win rate: 0.969 | time: 360.3 seconds\n",
      "Epoch: 207/999 | Loss: 0.0009 | Episodes: 17 | Win count: 108 | Win rate: 1.000 | time: 360.6 seconds\n",
      "Epoch: 208/999 | Loss: 0.0006 | Episodes: 2 | Win count: 109 | Win rate: 1.000 | time: 361.5 seconds\n",
      "Epoch: 209/999 | Loss: 0.0011 | Episodes: 39 | Win count: 110 | Win rate: 1.000 | time: 366.4 seconds\n",
      "Epoch: 210/999 | Loss: 0.0010 | Episodes: 25 | Win count: 111 | Win rate: 1.000 | time: 367.8 seconds\n",
      "Epoch: 211/999 | Loss: 0.0008 | Episodes: 9 | Win count: 112 | Win rate: 1.000 | time: 368.9 seconds\n",
      "Epoch: 212/999 | Loss: 0.0012 | Episodes: 17 | Win count: 113 | Win rate: 1.000 | time: 370.2 seconds\n",
      "Epoch: 213/999 | Loss: 0.0011 | Episodes: 27 | Win count: 114 | Win rate: 1.000 | time: 371.7 seconds\n",
      "Epoch: 214/999 | Loss: 0.0008 | Episodes: 15 | Win count: 115 | Win rate: 1.000 | time: 372.9 seconds\n",
      "Epoch: 215/999 | Loss: 0.0011 | Episodes: 41 | Win count: 116 | Win rate: 1.000 | time: 374.6 seconds\n",
      "Epoch: 216/999 | Loss: 0.0010 | Episodes: 20 | Win count: 117 | Win rate: 1.000 | time: 376.0 seconds\n",
      "Epoch: 217/999 | Loss: 0.0010 | Episodes: 19 | Win count: 118 | Win rate: 1.000 | time: 377.4 seconds\n",
      "Epoch: 218/999 | Loss: 0.0010 | Episodes: 17 | Win count: 119 | Win rate: 1.000 | time: 378.6 seconds\n",
      "Epoch: 219/999 | Loss: 0.0021 | Episodes: 28 | Win count: 120 | Win rate: 1.000 | time: 380.0 seconds\n",
      "Epoch: 220/999 | Loss: 0.0008 | Episodes: 4 | Win count: 121 | Win rate: 1.000 | time: 380.9 seconds\n",
      "Epoch: 221/999 | Loss: 0.0008 | Episodes: 16 | Win count: 122 | Win rate: 1.000 | time: 382.1 seconds\n",
      "Epoch: 222/999 | Loss: 0.0006 | Episodes: 9 | Win count: 123 | Win rate: 1.000 | time: 383.0 seconds\n",
      "Epoch: 223/999 | Loss: 0.0006 | Episodes: 151 | Win count: 124 | Win rate: 1.000 | time: 387.1 seconds\n",
      "Epoch: 224/999 | Loss: 0.0003 | Episodes: 19 | Win count: 125 | Win rate: 1.000 | time: 388.4 seconds\n",
      "Epoch: 225/999 | Loss: 0.0005 | Episodes: 35 | Win count: 126 | Win rate: 1.000 | time: 390.0 seconds\n",
      "Epoch: 226/999 | Loss: 0.0011 | Episodes: 29 | Win count: 127 | Win rate: 1.000 | time: 391.5 seconds\n",
      "Epoch: 227/999 | Loss: 0.0003 | Episodes: 37 | Win count: 128 | Win rate: 1.000 | time: 393.1 seconds\n",
      "Epoch: 228/999 | Loss: 0.0005 | Episodes: 28 | Win count: 129 | Win rate: 1.000 | time: 394.6 seconds\n",
      "Epoch: 229/999 | Loss: 0.0008 | Episodes: 2 | Win count: 130 | Win rate: 1.000 | time: 395.6 seconds\n",
      "Epoch: 230/999 | Loss: 0.0010 | Episodes: 133 | Win count: 130 | Win rate: 0.969 | time: 399.3 seconds\n",
      "Epoch: 231/999 | Loss: 0.0003 | Episodes: 17 | Win count: 131 | Win rate: 0.969 | time: 399.6 seconds\n",
      "Epoch: 232/999 | Loss: 0.0003 | Episodes: 45 | Win count: 132 | Win rate: 0.969 | time: 6.68 minutes\n",
      "Epoch: 233/999 | Loss: 0.0007 | Episodes: 25 | Win count: 133 | Win rate: 0.969 | time: 6.69 minutes\n",
      "Epoch: 234/999 | Loss: 0.0004 | Episodes: 1 | Win count: 134 | Win rate: 0.969 | time: 6.69 minutes\n",
      "Epoch: 235/999 | Loss: 0.0005 | Episodes: 18 | Win count: 135 | Win rate: 0.969 | time: 6.69 minutes\n",
      "Epoch: 236/999 | Loss: 0.0004 | Episodes: 30 | Win count: 136 | Win rate: 0.969 | time: 6.70 minutes\n",
      "Epoch: 237/999 | Loss: 0.0001 | Episodes: 22 | Win count: 137 | Win rate: 0.969 | time: 6.71 minutes\n",
      "Epoch: 238/999 | Loss: 0.0004 | Episodes: 26 | Win count: 138 | Win rate: 0.969 | time: 6.72 minutes\n",
      "Epoch: 239/999 | Loss: 0.0008 | Episodes: 19 | Win count: 139 | Win rate: 0.969 | time: 6.73 minutes\n",
      "Epoch: 240/999 | Loss: 0.0004 | Episodes: 13 | Win count: 140 | Win rate: 0.969 | time: 6.73 minutes\n",
      "Epoch: 241/999 | Loss: 0.0007 | Episodes: 23 | Win count: 141 | Win rate: 0.969 | time: 6.74 minutes\n",
      "Epoch: 242/999 | Loss: 0.0004 | Episodes: 34 | Win count: 142 | Win rate: 0.969 | time: 6.75 minutes\n",
      "Epoch: 243/999 | Loss: 0.0005 | Episodes: 20 | Win count: 143 | Win rate: 0.969 | time: 6.76 minutes\n",
      "Epoch: 244/999 | Loss: 0.0001 | Episodes: 7 | Win count: 144 | Win rate: 0.969 | time: 6.76 minutes\n"
     ]
    },
    {
     "name": "stdout",
     "output_type": "stream",
     "text": [
      "Epoch: 245/999 | Loss: 0.0002 | Episodes: 23 | Win count: 145 | Win rate: 0.969 | time: 6.77 minutes\n",
      "Epoch: 246/999 | Loss: 0.0011 | Episodes: 7 | Win count: 146 | Win rate: 0.969 | time: 6.78 minutes\n",
      "Epoch: 247/999 | Loss: 0.0001 | Episodes: 134 | Win count: 146 | Win rate: 0.938 | time: 6.82 minutes\n",
      "Epoch: 248/999 | Loss: 0.0001 | Episodes: 25 | Win count: 147 | Win rate: 0.938 | time: 6.84 minutes\n",
      "Epoch: 249/999 | Loss: 0.0001 | Episodes: 9 | Win count: 148 | Win rate: 0.938 | time: 6.84 minutes\n",
      "Epoch: 250/999 | Loss: 0.0001 | Episodes: 23 | Win count: 149 | Win rate: 0.938 | time: 6.85 minutes\n",
      "Epoch: 251/999 | Loss: 0.0002 | Episodes: 1 | Win count: 150 | Win rate: 0.938 | time: 6.85 minutes\n",
      "Epoch: 252/999 | Loss: 0.0002 | Episodes: 6 | Win count: 151 | Win rate: 0.938 | time: 6.85 minutes\n",
      "Epoch: 253/999 | Loss: 0.0005 | Episodes: 24 | Win count: 152 | Win rate: 0.938 | time: 6.86 minutes\n",
      "Epoch: 254/999 | Loss: 0.0002 | Episodes: 7 | Win count: 153 | Win rate: 0.938 | time: 6.86 minutes\n",
      "Epoch: 255/999 | Loss: 0.0001 | Episodes: 21 | Win count: 154 | Win rate: 0.938 | time: 6.87 minutes\n",
      "Epoch: 256/999 | Loss: 0.0001 | Episodes: 18 | Win count: 155 | Win rate: 0.938 | time: 6.88 minutes\n",
      "Epoch: 257/999 | Loss: 0.0000 | Episodes: 19 | Win count: 156 | Win rate: 0.938 | time: 6.88 minutes\n",
      "Epoch: 258/999 | Loss: 0.0001 | Episodes: 29 | Win count: 157 | Win rate: 0.938 | time: 6.89 minutes\n",
      "Epoch: 259/999 | Loss: 0.0003 | Episodes: 11 | Win count: 158 | Win rate: 0.938 | time: 6.90 minutes\n",
      "Epoch: 260/999 | Loss: 0.0002 | Episodes: 27 | Win count: 159 | Win rate: 0.938 | time: 6.91 minutes\n",
      "Epoch: 261/999 | Loss: 0.0001 | Episodes: 18 | Win count: 160 | Win rate: 0.938 | time: 6.91 minutes\n",
      "Epoch: 262/999 | Loss: 0.0001 | Episodes: 15 | Win count: 161 | Win rate: 0.969 | time: 6.92 minutes\n",
      "Epoch: 263/999 | Loss: 0.0003 | Episodes: 16 | Win count: 162 | Win rate: 0.969 | time: 6.92 minutes\n",
      "Epoch: 264/999 | Loss: 0.0001 | Episodes: 18 | Win count: 163 | Win rate: 0.969 | time: 6.93 minutes\n",
      "Epoch: 265/999 | Loss: 0.0004 | Episodes: 1 | Win count: 164 | Win rate: 0.969 | time: 6.93 minutes\n",
      "Epoch: 266/999 | Loss: 0.0001 | Episodes: 17 | Win count: 165 | Win rate: 0.969 | time: 6.94 minutes\n",
      "Epoch: 267/999 | Loss: 0.0006 | Episodes: 13 | Win count: 166 | Win rate: 0.969 | time: 6.94 minutes\n",
      "Epoch: 268/999 | Loss: 0.0001 | Episodes: 9 | Win count: 167 | Win rate: 0.969 | time: 6.95 minutes\n",
      "Epoch: 269/999 | Loss: 0.0000 | Episodes: 8 | Win count: 168 | Win rate: 0.969 | time: 6.95 minutes\n",
      "Epoch: 270/999 | Loss: 0.0001 | Episodes: 25 | Win count: 169 | Win rate: 0.969 | time: 6.96 minutes\n",
      "Epoch: 271/999 | Loss: 0.0003 | Episodes: 1 | Win count: 170 | Win rate: 0.969 | time: 6.96 minutes\n",
      "Epoch: 272/999 | Loss: 0.0000 | Episodes: 40 | Win count: 171 | Win rate: 0.969 | time: 6.97 minutes\n",
      "Epoch: 273/999 | Loss: 0.0013 | Episodes: 75 | Win count: 172 | Win rate: 0.969 | time: 7.00 minutes\n",
      "Epoch: 274/999 | Loss: 0.0004 | Episodes: 28 | Win count: 173 | Win rate: 0.969 | time: 7.01 minutes\n",
      "Epoch: 275/999 | Loss: 0.0006 | Episodes: 34 | Win count: 174 | Win rate: 0.969 | time: 7.03 minutes\n",
      "Epoch: 276/999 | Loss: 0.0004 | Episodes: 6 | Win count: 175 | Win rate: 0.969 | time: 7.03 minutes\n",
      "Epoch: 277/999 | Loss: 0.0006 | Episodes: 30 | Win count: 176 | Win rate: 0.969 | time: 7.04 minutes\n",
      "Epoch: 278/999 | Loss: 0.0010 | Episodes: 32 | Win count: 177 | Win rate: 0.969 | time: 7.05 minutes\n",
      "Epoch: 279/999 | Loss: 0.0002 | Episodes: 21 | Win count: 178 | Win rate: 1.000 | time: 7.06 minutes\n",
      "Epoch: 280/999 | Loss: 0.0002 | Episodes: 22 | Win count: 179 | Win rate: 1.000 | time: 7.08 minutes\n",
      "Epoch: 281/999 | Loss: 0.0006 | Episodes: 9 | Win count: 180 | Win rate: 1.000 | time: 7.10 minutes\n",
      "Epoch: 282/999 | Loss: 0.0004 | Episodes: 20 | Win count: 181 | Win rate: 1.000 | time: 7.12 minutes\n",
      "Epoch: 283/999 | Loss: 0.0004 | Episodes: 19 | Win count: 182 | Win rate: 1.000 | time: 7.14 minutes\n",
      "Epoch: 284/999 | Loss: 0.0005 | Episodes: 117 | Win count: 183 | Win rate: 1.000 | time: 7.20 minutes\n",
      "Epoch: 285/999 | Loss: 0.0003 | Episodes: 47 | Win count: 184 | Win rate: 1.000 | time: 7.23 minutes\n",
      "Epoch: 286/999 | Loss: 0.0001 | Episodes: 21 | Win count: 185 | Win rate: 1.000 | time: 7.25 minutes\n",
      "Epoch: 287/999 | Loss: 0.0009 | Episodes: 45 | Win count: 186 | Win rate: 1.000 | time: 7.28 minutes\n",
      "Epoch: 288/999 | Loss: 0.0014 | Episodes: 7 | Win count: 187 | Win rate: 1.000 | time: 7.30 minutes\n",
      "Epoch: 289/999 | Loss: 0.0003 | Episodes: 21 | Win count: 188 | Win rate: 1.000 | time: 7.33 minutes\n",
      "Epoch: 290/999 | Loss: 0.0001 | Episodes: 15 | Win count: 189 | Win rate: 1.000 | time: 7.40 minutes\n",
      "Epoch: 291/999 | Loss: 0.0002 | Episodes: 6 | Win count: 190 | Win rate: 1.000 | time: 7.42 minutes\n",
      "Epoch: 292/999 | Loss: 0.0005 | Episodes: 1 | Win count: 191 | Win rate: 1.000 | time: 7.43 minutes\n",
      "Epoch: 293/999 | Loss: 0.0004 | Episodes: 32 | Win count: 192 | Win rate: 1.000 | time: 7.46 minutes\n",
      "Epoch: 294/999 | Loss: 0.0005 | Episodes: 9 | Win count: 193 | Win rate: 1.000 | time: 7.48 minutes\n",
      "Epoch: 295/999 | Loss: 0.0001 | Episodes: 1 | Win count: 194 | Win rate: 1.000 | time: 7.49 minutes\n",
      "Epoch: 296/999 | Loss: 0.0009 | Episodes: 8 | Win count: 195 | Win rate: 1.000 | time: 7.51 minutes\n",
      "Epoch: 297/999 | Loss: 0.0001 | Episodes: 27 | Win count: 196 | Win rate: 1.000 | time: 7.53 minutes\n",
      "Epoch: 298/999 | Loss: 0.0007 | Episodes: 1 | Win count: 197 | Win rate: 1.000 | time: 7.55 minutes\n",
      "Epoch: 299/999 | Loss: 0.0002 | Episodes: 1 | Win count: 198 | Win rate: 1.000 | time: 7.56 minutes\n",
      "Epoch: 300/999 | Loss: 0.0002 | Episodes: 23 | Win count: 199 | Win rate: 1.000 | time: 7.58 minutes\n",
      "Epoch: 301/999 | Loss: 0.0001 | Episodes: 19 | Win count: 200 | Win rate: 1.000 | time: 7.60 minutes\n",
      "Epoch: 302/999 | Loss: 0.0007 | Episodes: 60 | Win count: 201 | Win rate: 1.000 | time: 7.64 minutes\n",
      "Epoch: 303/999 | Loss: 0.0002 | Episodes: 13 | Win count: 202 | Win rate: 1.000 | time: 7.66 minutes\n",
      "Epoch: 304/999 | Loss: 0.0004 | Episodes: 30 | Win count: 203 | Win rate: 1.000 | time: 7.68 minutes\n",
      "Epoch: 305/999 | Loss: 0.0004 | Episodes: 34 | Win count: 204 | Win rate: 1.000 | time: 7.71 minutes\n",
      "Epoch: 306/999 | Loss: 0.0005 | Episodes: 29 | Win count: 205 | Win rate: 1.000 | time: 7.73 minutes\n",
      "Epoch: 307/999 | Loss: 0.0001 | Episodes: 27 | Win count: 206 | Win rate: 1.000 | time: 7.76 minutes\n",
      "Epoch: 308/999 | Loss: 0.0002 | Episodes: 10 | Win count: 207 | Win rate: 1.000 | time: 7.78 minutes\n",
      "Epoch: 309/999 | Loss: 0.0002 | Episodes: 21 | Win count: 208 | Win rate: 1.000 | time: 7.80 minutes\n",
      "Epoch: 310/999 | Loss: 0.0008 | Episodes: 2 | Win count: 209 | Win rate: 1.000 | time: 7.81 minutes\n",
      "Epoch: 311/999 | Loss: 0.0005 | Episodes: 26 | Win count: 210 | Win rate: 1.000 | time: 7.84 minutes\n",
      "Epoch: 312/999 | Loss: 0.0001 | Episodes: 25 | Win count: 211 | Win rate: 1.000 | time: 7.86 minutes\n",
      "Epoch: 313/999 | Loss: 0.0007 | Episodes: 129 | Win count: 211 | Win rate: 0.969 | time: 7.92 minutes\n",
      "Epoch: 314/999 | Loss: 0.0008 | Episodes: 20 | Win count: 212 | Win rate: 0.969 | time: 7.93 minutes\n",
      "Epoch: 315/999 | Loss: 0.0001 | Episodes: 12 | Win count: 213 | Win rate: 0.969 | time: 7.93 minutes\n",
      "Epoch: 316/999 | Loss: 0.0001 | Episodes: 4 | Win count: 214 | Win rate: 0.969 | time: 7.93 minutes\n",
      "Epoch: 317/999 | Loss: 0.0001 | Episodes: 21 | Win count: 215 | Win rate: 0.969 | time: 7.94 minutes\n",
      "Epoch: 318/999 | Loss: 0.0002 | Episodes: 7 | Win count: 216 | Win rate: 0.969 | time: 7.95 minutes\n",
      "Epoch: 319/999 | Loss: 0.0001 | Episodes: 35 | Win count: 217 | Win rate: 0.969 | time: 7.96 minutes\n",
      "Epoch: 320/999 | Loss: 0.0004 | Episodes: 23 | Win count: 218 | Win rate: 0.969 | time: 7.97 minutes\n",
      "Epoch: 321/999 | Loss: 0.0005 | Episodes: 20 | Win count: 219 | Win rate: 0.969 | time: 7.97 minutes\n",
      "Epoch: 322/999 | Loss: 0.0004 | Episodes: 12 | Win count: 220 | Win rate: 0.969 | time: 7.98 minutes\n",
      "Epoch: 323/999 | Loss: 0.0001 | Episodes: 8 | Win count: 221 | Win rate: 0.969 | time: 7.98 minutes\n",
      "Epoch: 324/999 | Loss: 0.0001 | Episodes: 8 | Win count: 222 | Win rate: 0.969 | time: 7.99 minutes\n",
      "Epoch: 325/999 | Loss: 0.0004 | Episodes: 4 | Win count: 223 | Win rate: 0.969 | time: 7.99 minutes\n",
      "Epoch: 326/999 | Loss: 0.0002 | Episodes: 23 | Win count: 224 | Win rate: 0.969 | time: 8.00 minutes\n"
     ]
    },
    {
     "name": "stdout",
     "output_type": "stream",
     "text": [
      "Epoch: 327/999 | Loss: 0.0007 | Episodes: 22 | Win count: 225 | Win rate: 0.969 | time: 8.00 minutes\n",
      "Epoch: 328/999 | Loss: 0.0004 | Episodes: 29 | Win count: 226 | Win rate: 0.969 | time: 8.01 minutes\n",
      "Epoch: 329/999 | Loss: 0.0004 | Episodes: 11 | Win count: 227 | Win rate: 0.969 | time: 8.02 minutes\n",
      "Epoch: 330/999 | Loss: 0.0000 | Episodes: 29 | Win count: 228 | Win rate: 0.969 | time: 8.03 minutes\n",
      "Epoch: 331/999 | Loss: 0.0001 | Episodes: 17 | Win count: 229 | Win rate: 0.969 | time: 8.03 minutes\n",
      "Epoch: 332/999 | Loss: 0.0001 | Episodes: 29 | Win count: 230 | Win rate: 0.969 | time: 8.05 minutes\n",
      "Epoch: 333/999 | Loss: 0.0003 | Episodes: 27 | Win count: 231 | Win rate: 0.969 | time: 8.06 minutes\n",
      "Epoch: 334/999 | Loss: 0.0004 | Episodes: 3 | Win count: 232 | Win rate: 0.969 | time: 8.06 minutes\n",
      "Epoch: 335/999 | Loss: 0.0005 | Episodes: 18 | Win count: 233 | Win rate: 0.969 | time: 8.07 minutes\n",
      "Epoch: 336/999 | Loss: 0.0006 | Episodes: 20 | Win count: 234 | Win rate: 0.969 | time: 8.07 minutes\n",
      "Epoch: 337/999 | Loss: 0.0001 | Episodes: 19 | Win count: 235 | Win rate: 0.969 | time: 8.08 minutes\n",
      "Epoch: 338/999 | Loss: 0.0001 | Episodes: 34 | Win count: 236 | Win rate: 0.969 | time: 8.09 minutes\n",
      "Epoch: 339/999 | Loss: 0.0001 | Episodes: 16 | Win count: 237 | Win rate: 0.969 | time: 8.10 minutes\n",
      "Epoch: 340/999 | Loss: 0.0002 | Episodes: 13 | Win count: 238 | Win rate: 0.969 | time: 8.10 minutes\n",
      "Epoch: 341/999 | Loss: 0.0004 | Episodes: 25 | Win count: 239 | Win rate: 0.969 | time: 8.11 minutes\n",
      "Epoch: 342/999 | Loss: 0.0002 | Episodes: 26 | Win count: 240 | Win rate: 0.969 | time: 8.12 minutes\n",
      "Epoch: 343/999 | Loss: 0.0004 | Episodes: 22 | Win count: 241 | Win rate: 0.969 | time: 8.13 minutes\n",
      "Epoch: 344/999 | Loss: 0.0001 | Episodes: 16 | Win count: 242 | Win rate: 0.969 | time: 8.14 minutes\n",
      "Epoch: 345/999 | Loss: 0.0006 | Episodes: 29 | Win count: 243 | Win rate: 1.000 | time: 8.15 minutes\n",
      "Epoch: 346/999 | Loss: 0.0001 | Episodes: 29 | Win count: 244 | Win rate: 1.000 | time: 8.23 minutes\n",
      "Epoch: 347/999 | Loss: 0.0008 | Episodes: 7 | Win count: 245 | Win rate: 1.000 | time: 8.30 minutes\n",
      "Epoch: 348/999 | Loss: 0.0008 | Episodes: 28 | Win count: 246 | Win rate: 1.000 | time: 8.33 minutes\n",
      "Epoch: 349/999 | Loss: 0.0002 | Episodes: 12 | Win count: 247 | Win rate: 1.000 | time: 8.35 minutes\n",
      "Epoch: 350/999 | Loss: 0.0001 | Episodes: 18 | Win count: 248 | Win rate: 1.000 | time: 8.36 minutes\n",
      "Epoch: 351/999 | Loss: 0.0004 | Episodes: 5 | Win count: 249 | Win rate: 1.000 | time: 8.43 minutes\n",
      "Epoch: 352/999 | Loss: 0.0014 | Episodes: 17 | Win count: 250 | Win rate: 1.000 | time: 8.50 minutes\n",
      "Epoch: 353/999 | Loss: 0.0004 | Episodes: 15 | Win count: 251 | Win rate: 1.000 | time: 8.52 minutes\n",
      "Epoch: 354/999 | Loss: 0.0002 | Episodes: 31 | Win count: 252 | Win rate: 1.000 | time: 8.60 minutes\n",
      "Epoch: 355/999 | Loss: 0.0007 | Episodes: 29 | Win count: 253 | Win rate: 1.000 | time: 8.63 minutes\n",
      "Epoch: 356/999 | Loss: 0.0007 | Episodes: 4 | Win count: 254 | Win rate: 1.000 | time: 8.65 minutes\n",
      "Epoch: 357/999 | Loss: 0.0006 | Episodes: 5 | Win count: 255 | Win rate: 1.000 | time: 8.66 minutes\n",
      "Epoch: 358/999 | Loss: 0.0006 | Episodes: 5 | Win count: 256 | Win rate: 1.000 | time: 8.71 minutes\n",
      "Epoch: 359/999 | Loss: 0.0006 | Episodes: 9 | Win count: 257 | Win rate: 1.000 | time: 8.73 minutes\n",
      "Epoch: 360/999 | Loss: 0.0002 | Episodes: 31 | Win count: 258 | Win rate: 1.000 | time: 8.76 minutes\n",
      "Epoch: 361/999 | Loss: 0.0002 | Episodes: 1 | Win count: 259 | Win rate: 1.000 | time: 8.80 minutes\n",
      "Reached 100% win rate at epoch 361\n",
      "Training complete in: 8.90 minutes\n"
     ]
    },
    {
     "data": {
      "text/plain": [
       "534.057219"
      ]
     },
     "execution_count": 13,
     "metadata": {},
     "output_type": "execute_result"
    }
   ],
   "source": [
    "model = build_model(maze)\n",
    "qtrain(model, maze, n_epoch=1000, max_memory=8*maze.size, data_size=32, target_update_freq=50)"
   ]
  },
  {
   "cell_type": "markdown",
   "metadata": {},
   "source": [
    "This cell will check to see if the model passes the completion check. Note: This could take several minutes."
   ]
  },
  {
   "cell_type": "code",
   "execution_count": 14,
   "metadata": {},
   "outputs": [
    {
     "data": {
      "text/plain": [
       "<matplotlib.image.AxesImage at 0x7bc3dc574390>"
      ]
     },
     "execution_count": 14,
     "metadata": {},
     "output_type": "execute_result"
    },
    {
     "data": {
      "image/png": "[encoded data removed]",
      "text/plain": [
       "<Figure size 640x480 with 1 Axes>"
      ]
     },
     "metadata": {},
     "output_type": "display_data"
    }
   ],
   "source": [
    "completion_check(model, qmaze)\n",
    "show(qmaze)"
   ]
  },
  {
   "cell_type": "markdown",
   "metadata": {},
   "source": [
    "This cell will test your model for one game. It will start the pirate at the top-left corner and run <b>play_game()</b>. The agent should find a path from the starting position to the target (treasure). The treasure is located in the bottom-right corner."
   ]
  },
  {
   "cell_type": "code",
   "execution_count": 15,
   "metadata": {},
   "outputs": [
    {
     "data": {
      "text/plain": [
       "<matplotlib.image.AxesImage at 0x7bc3dc69d210>"
      ]
     },
     "execution_count": 15,
     "metadata": {},
     "output_type": "execute_result"
    },
    {
     "data": {
      "image/png": "[encoded data removed]",
      "text/plain": [
       "<Figure size 640x480 with 1 Axes>"
      ]
     },
     "metadata": {},
     "output_type": "display_data"
    }
   ],
   "source": [
    "pirate_start = (0, 0)\n",
    "play_game(model, qmaze, pirate_start)\n",
    "show(qmaze)"
   ]
  },
  {
   "cell_type": "markdown",
   "metadata": {},
   "source": [
    "## Save and Submit Your Work\n",
    "After you have finished creating the code for your notebook, save your work.\n",
    "Make sure that your notebook contains your name in the filename (e.g. Doe_Jane_ProjectTwo.html). Download this file as an .html file clicking on ***file*** in *Jupyter Notebook*, navigating down to ***Download as*** and clicking on ***.html***. \n",
    "Download a copy of your .html file and submit it to Brightspace."
   ]
  }
 ],
 "metadata": {
  "kernelspec": {
   "display_name": "Python 3 (ipykernel)",
   "language": "python",
   "name": "python3"
  },
  "language_info": {
   "codemirror_mode": {
    "name": "ipython",
    "version": 3
   },
   "file_extension": ".py",
   "mimetype": "text/x-python",
   "name": "python",
   "nbconvert_exporter": "python",
   "pygments_lexer": "ipython3",
   "version": "3.11.2"
  }
 },
 "nbformat": 4,
 "nbformat_minor": 2
}
